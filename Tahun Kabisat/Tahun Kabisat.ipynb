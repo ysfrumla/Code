{
 "cells": [
  {
   "cell_type": "code",
   "execution_count": 5,
   "metadata": {},
   "outputs": [
    {
     "name": "stdout",
     "output_type": "stream",
     "text": [
      "2001\n",
      "2011\n",
      "2009\n",
      "2008\n",
      "2007\n",
      "2007 bukan tahun kabisat\n"
     ]
    }
   ],
   "source": [
    "maks = 5\n",
    "for tahun in range(maks):\n",
    "    tahun = int(input(\"Masukan tahun yang ingin dicari: \"))\n",
    "    print(tahun)\n",
    "\n",
    "\n",
    "habis_dibagi_400 = tahun % 400 == 0\n",
    "habis_dibagi_100 = tahun % 100 == 0\n",
    "habis_dibagi_4 = tahun % 4 == 0\n",
    "\n",
    "if habis_dibagi_400 or (habis_dibagi_4 and not habis_dibagi_100):\n",
    "  print(f'{tahun} tahun kabisat')\n",
    "else:\n",
    "  print(f'{tahun} bukan tahun kabisat')\n"
   ]
  },
  {
   "cell_type": "code",
   "execution_count": null,
   "metadata": {},
   "outputs": [],
   "source": []
  }
 ],
 "metadata": {
  "interpreter": {
   "hash": "3325f28cc6e0d2af6e0174374b736871d9f89cddfe57da1bf925ec76b44ebc5f"
  },
  "kernelspec": {
   "display_name": "Python 3.9.7 ('base')",
   "language": "python",
   "name": "python3"
  },
  "language_info": {
   "codemirror_mode": {
    "name": "ipython",
    "version": 3
   },
   "file_extension": ".py",
   "mimetype": "text/x-python",
   "name": "python",
   "nbconvert_exporter": "python",
   "pygments_lexer": "ipython3",
   "version": "3.10.2"
  },
  "orig_nbformat": 4
 },
 "nbformat": 4,
 "nbformat_minor": 2
}
