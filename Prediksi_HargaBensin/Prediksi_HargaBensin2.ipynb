{
 "cells": [
  {
   "cell_type": "code",
   "execution_count": 1,
   "metadata": {},
   "outputs": [
    {
     "data": {
      "text/html": [
       "<div>\n",
       "<style scoped>\n",
       "    .dataframe tbody tr th:only-of-type {\n",
       "        vertical-align: middle;\n",
       "    }\n",
       "\n",
       "    .dataframe tbody tr th {\n",
       "        vertical-align: top;\n",
       "    }\n",
       "\n",
       "    .dataframe thead th {\n",
       "        text-align: right;\n",
       "    }\n",
       "</style>\n",
       "<table border=\"1\" class=\"dataframe\">\n",
       "  <thead>\n",
       "    <tr style=\"text-align: right;\">\n",
       "      <th></th>\n",
       "      <th>Liter</th>\n",
       "      <th>Penumpang</th>\n",
       "      <th>Bagasi</th>\n",
       "      <th>Kecepatan</th>\n",
       "      <th>RPM</th>\n",
       "      <th>Suhu</th>\n",
       "      <th>Kilometer</th>\n",
       "    </tr>\n",
       "  </thead>\n",
       "  <tbody>\n",
       "    <tr>\n",
       "      <th>0</th>\n",
       "      <td>20</td>\n",
       "      <td>1</td>\n",
       "      <td>0</td>\n",
       "      <td>42</td>\n",
       "      <td>3000</td>\n",
       "      <td>29</td>\n",
       "      <td>142</td>\n",
       "    </tr>\n",
       "    <tr>\n",
       "      <th>1</th>\n",
       "      <td>25</td>\n",
       "      <td>2</td>\n",
       "      <td>15</td>\n",
       "      <td>50</td>\n",
       "      <td>4000</td>\n",
       "      <td>36</td>\n",
       "      <td>177</td>\n",
       "    </tr>\n",
       "    <tr>\n",
       "      <th>2</th>\n",
       "      <td>20</td>\n",
       "      <td>4</td>\n",
       "      <td>10</td>\n",
       "      <td>50</td>\n",
       "      <td>3000</td>\n",
       "      <td>24</td>\n",
       "      <td>144</td>\n",
       "    </tr>\n",
       "    <tr>\n",
       "      <th>3</th>\n",
       "      <td>30</td>\n",
       "      <td>5</td>\n",
       "      <td>25</td>\n",
       "      <td>50</td>\n",
       "      <td>3000</td>\n",
       "      <td>18</td>\n",
       "      <td>203</td>\n",
       "    </tr>\n",
       "    <tr>\n",
       "      <th>4</th>\n",
       "      <td>40</td>\n",
       "      <td>1</td>\n",
       "      <td>40</td>\n",
       "      <td>50</td>\n",
       "      <td>3200</td>\n",
       "      <td>30</td>\n",
       "      <td>273</td>\n",
       "    </tr>\n",
       "    <tr>\n",
       "      <th>...</th>\n",
       "      <td>...</td>\n",
       "      <td>...</td>\n",
       "      <td>...</td>\n",
       "      <td>...</td>\n",
       "      <td>...</td>\n",
       "      <td>...</td>\n",
       "      <td>...</td>\n",
       "    </tr>\n",
       "    <tr>\n",
       "      <th>60</th>\n",
       "      <td>31</td>\n",
       "      <td>3</td>\n",
       "      <td>0</td>\n",
       "      <td>50</td>\n",
       "      <td>3000</td>\n",
       "      <td>30</td>\n",
       "      <td>203</td>\n",
       "    </tr>\n",
       "    <tr>\n",
       "      <th>61</th>\n",
       "      <td>37</td>\n",
       "      <td>1</td>\n",
       "      <td>0</td>\n",
       "      <td>50</td>\n",
       "      <td>3000</td>\n",
       "      <td>22</td>\n",
       "      <td>241</td>\n",
       "    </tr>\n",
       "    <tr>\n",
       "      <th>62</th>\n",
       "      <td>23</td>\n",
       "      <td>2</td>\n",
       "      <td>10</td>\n",
       "      <td>50</td>\n",
       "      <td>3000</td>\n",
       "      <td>30</td>\n",
       "      <td>142</td>\n",
       "    </tr>\n",
       "    <tr>\n",
       "      <th>63</th>\n",
       "      <td>36</td>\n",
       "      <td>2</td>\n",
       "      <td>0</td>\n",
       "      <td>50</td>\n",
       "      <td>3000</td>\n",
       "      <td>20</td>\n",
       "      <td>241</td>\n",
       "    </tr>\n",
       "    <tr>\n",
       "      <th>64</th>\n",
       "      <td>23</td>\n",
       "      <td>1</td>\n",
       "      <td>15</td>\n",
       "      <td>50</td>\n",
       "      <td>3000</td>\n",
       "      <td>30</td>\n",
       "      <td>142</td>\n",
       "    </tr>\n",
       "  </tbody>\n",
       "</table>\n",
       "<p>65 rows × 7 columns</p>\n",
       "</div>"
      ],
      "text/plain": [
       "    Liter  Penumpang  Bagasi  Kecepatan   RPM  Suhu  Kilometer\n",
       "0      20          1       0         42  3000    29        142\n",
       "1      25          2      15         50  4000    36        177\n",
       "2      20          4      10         50  3000    24        144\n",
       "3      30          5      25         50  3000    18        203\n",
       "4      40          1      40         50  3200    30        273\n",
       "..    ...        ...     ...        ...   ...   ...        ...\n",
       "60     31          3       0         50  3000    30        203\n",
       "61     37          1       0         50  3000    22        241\n",
       "62     23          2      10         50  3000    30        142\n",
       "63     36          2       0         50  3000    20        241\n",
       "64     23          1      15         50  3000    30        142\n",
       "\n",
       "[65 rows x 7 columns]"
      ]
     },
     "execution_count": 1,
     "metadata": {},
     "output_type": "execute_result"
    }
   ],
   "source": [
    "import pandas as pd\n",
    "import numpy as np\n",
    "import sklearn.model_selection as ms\n",
    "import sklearn.linear_model as lm\n",
    "\n",
    "\n",
    "df2 = pd.read_csv(r\"E:\\File Program\\Semester II\\Jupyter Notebook\\Data Latihan\\data\\New Folder\\bensin2.csv\")\n",
    "df2"
   ]
  },
  {
   "cell_type": "code",
   "execution_count": 2,
   "metadata": {},
   "outputs": [
    {
     "data": {
      "text/plain": [
       "Liter        65\n",
       "Penumpang    65\n",
       "Bagasi       65\n",
       "Kecepatan    65\n",
       "RPM          65\n",
       "Suhu         65\n",
       "Kilometer    65\n",
       "dtype: int64"
      ]
     },
     "execution_count": 2,
     "metadata": {},
     "output_type": "execute_result"
    }
   ],
   "source": [
    "df2.count()"
   ]
  },
  {
   "cell_type": "code",
   "execution_count": 3,
   "metadata": {},
   "outputs": [
    {
     "data": {
      "text/plain": [
       "Liter                                                     1719\n",
       "Penumpang                                                  155\n",
       "Bagasi                                                     555\n",
       "Kecepatan                                                 3242\n",
       "RPM          3000400030003000320029003000350030003000220025...\n",
       "Suhu                                                      1868\n",
       "Kilometer                                                10745\n",
       "dtype: object"
      ]
     },
     "execution_count": 3,
     "metadata": {},
     "output_type": "execute_result"
    }
   ],
   "source": [
    "df2.sum()"
   ]
  },
  {
   "cell_type": "code",
   "execution_count": 4,
   "metadata": {},
   "outputs": [
    {
     "data": {
      "text/html": [
       "<div>\n",
       "<style scoped>\n",
       "    .dataframe tbody tr th:only-of-type {\n",
       "        vertical-align: middle;\n",
       "    }\n",
       "\n",
       "    .dataframe tbody tr th {\n",
       "        vertical-align: top;\n",
       "    }\n",
       "\n",
       "    .dataframe thead th {\n",
       "        text-align: right;\n",
       "    }\n",
       "</style>\n",
       "<table border=\"1\" class=\"dataframe\">\n",
       "  <thead>\n",
       "    <tr style=\"text-align: right;\">\n",
       "      <th></th>\n",
       "      <th>Liter</th>\n",
       "      <th>Penumpang</th>\n",
       "      <th>Bagasi</th>\n",
       "      <th>Kecepatan</th>\n",
       "      <th>Suhu</th>\n",
       "      <th>Kilometer</th>\n",
       "    </tr>\n",
       "  </thead>\n",
       "  <tbody>\n",
       "    <tr>\n",
       "      <th>count</th>\n",
       "      <td>65.000000</td>\n",
       "      <td>65.000000</td>\n",
       "      <td>65.000000</td>\n",
       "      <td>65.000000</td>\n",
       "      <td>65.000000</td>\n",
       "      <td>65.000000</td>\n",
       "    </tr>\n",
       "    <tr>\n",
       "      <th>mean</th>\n",
       "      <td>26.446154</td>\n",
       "      <td>2.384615</td>\n",
       "      <td>8.538462</td>\n",
       "      <td>49.876923</td>\n",
       "      <td>28.738462</td>\n",
       "      <td>165.307692</td>\n",
       "    </tr>\n",
       "    <tr>\n",
       "      <th>std</th>\n",
       "      <td>7.424686</td>\n",
       "      <td>1.558167</td>\n",
       "      <td>13.101857</td>\n",
       "      <td>0.992278</td>\n",
       "      <td>3.378595</td>\n",
       "      <td>68.571113</td>\n",
       "    </tr>\n",
       "    <tr>\n",
       "      <th>min</th>\n",
       "      <td>6.000000</td>\n",
       "      <td>1.000000</td>\n",
       "      <td>0.000000</td>\n",
       "      <td>42.000000</td>\n",
       "      <td>18.000000</td>\n",
       "      <td>1.000000</td>\n",
       "    </tr>\n",
       "    <tr>\n",
       "      <th>25%</th>\n",
       "      <td>23.000000</td>\n",
       "      <td>1.000000</td>\n",
       "      <td>0.000000</td>\n",
       "      <td>50.000000</td>\n",
       "      <td>29.000000</td>\n",
       "      <td>142.000000</td>\n",
       "    </tr>\n",
       "    <tr>\n",
       "      <th>50%</th>\n",
       "      <td>25.000000</td>\n",
       "      <td>2.000000</td>\n",
       "      <td>0.000000</td>\n",
       "      <td>50.000000</td>\n",
       "      <td>30.000000</td>\n",
       "      <td>174.000000</td>\n",
       "    </tr>\n",
       "    <tr>\n",
       "      <th>75%</th>\n",
       "      <td>30.000000</td>\n",
       "      <td>4.000000</td>\n",
       "      <td>15.000000</td>\n",
       "      <td>50.000000</td>\n",
       "      <td>30.000000</td>\n",
       "      <td>211.000000</td>\n",
       "    </tr>\n",
       "    <tr>\n",
       "      <th>max</th>\n",
       "      <td>45.000000</td>\n",
       "      <td>6.000000</td>\n",
       "      <td>60.000000</td>\n",
       "      <td>50.000000</td>\n",
       "      <td>36.000000</td>\n",
       "      <td>278.000000</td>\n",
       "    </tr>\n",
       "  </tbody>\n",
       "</table>\n",
       "</div>"
      ],
      "text/plain": [
       "           Liter  Penumpang     Bagasi  Kecepatan       Suhu   Kilometer\n",
       "count  65.000000  65.000000  65.000000  65.000000  65.000000   65.000000\n",
       "mean   26.446154   2.384615   8.538462  49.876923  28.738462  165.307692\n",
       "std     7.424686   1.558167  13.101857   0.992278   3.378595   68.571113\n",
       "min     6.000000   1.000000   0.000000  42.000000  18.000000    1.000000\n",
       "25%    23.000000   1.000000   0.000000  50.000000  29.000000  142.000000\n",
       "50%    25.000000   2.000000   0.000000  50.000000  30.000000  174.000000\n",
       "75%    30.000000   4.000000  15.000000  50.000000  30.000000  211.000000\n",
       "max    45.000000   6.000000  60.000000  50.000000  36.000000  278.000000"
      ]
     },
     "execution_count": 4,
     "metadata": {},
     "output_type": "execute_result"
    }
   ],
   "source": [
    "df2.describe()"
   ]
  },
  {
   "cell_type": "code",
   "execution_count": 5,
   "metadata": {},
   "outputs": [
    {
     "data": {
      "text/plain": [
       "0     False\n",
       "1     False\n",
       "2     False\n",
       "3     False\n",
       "4     False\n",
       "      ...  \n",
       "60    False\n",
       "61    False\n",
       "62    False\n",
       "63    False\n",
       "64    False\n",
       "Length: 65, dtype: bool"
      ]
     },
     "execution_count": 5,
     "metadata": {},
     "output_type": "execute_result"
    }
   ],
   "source": [
    "df2.duplicated()"
   ]
  },
  {
   "cell_type": "code",
   "execution_count": 6,
   "metadata": {},
   "outputs": [
    {
     "name": "stdout",
     "output_type": "stream",
     "text": [
      "232 58\n"
     ]
    }
   ],
   "source": [
    "import pandas as pd\n",
    "import numpy as np\n",
    "import sklearn.model_selection as ms\n",
    "import sklearn.linear_model as lm\n",
    "\n",
    "\n",
    "df2 = pd.read_csv(r\"E:\\File Program\\Semester II\\Jupyter Notebook\\Data Latihan\\data\\New Folder\\bensin2.csv\")\n",
    "X = df2[['Liter', 'Penumpang', 'Suhu', 'Kecepatan']]\n",
    "y = df2[['Kilometer']]\n",
    "X_train, X_test, y_train, y_test = ms.train_test_split(X, y, test_size = 0.1, random_state = 0)\n",
    "print(X_train.size, y_train.size)"
   ]
  },
  {
   "cell_type": "code",
   "execution_count": 23,
   "metadata": {},
   "outputs": [
    {
     "name": "stdout",
     "output_type": "stream",
     "text": [
      "Intercept = [71.89241946]\n",
      "Slope = [[ 6.54072143  2.99204736  2.45423995 -3.21123461]]\n"
     ]
    }
   ],
   "source": [
    "modell = lm.LinearRegression()\n",
    "modell.fit(X_train, y_train)\n",
    "\n",
    "print('Intercept =', modell.intercept_)\n",
    "print('Slope =', modell.coef_)"
   ]
  },
  {
   "cell_type": "code",
   "execution_count": 24,
   "metadata": {},
   "outputs": [
    {
     "name": "stdout",
     "output_type": "stream",
     "text": [
      "Hasil prediksi = [[138.07882573]]\n"
     ]
    }
   ],
   "source": [
    "data1 = np.array([[30, 2, 10, 50]])\n",
    "hasil = modell.predict(data1)\n",
    "print('Hasil prediksi =', hasil)"
   ]
  },
  {
   "cell_type": "code",
   "execution_count": 25,
   "metadata": {},
   "outputs": [
    {
     "name": "stdout",
     "output_type": "stream",
     "text": [
      "Hasil scoring = 0.6822990991636202\n"
     ]
    }
   ],
   "source": [
    "r2 = modell.score(X_test, y_test)\n",
    "print('Hasil scoring =', r2)"
   ]
  },
  {
   "cell_type": "code",
   "execution_count": 26,
   "metadata": {},
   "outputs": [
    {
     "name": "stdout",
     "output_type": "stream",
     "text": [
      "Hasil prediksi = [[138.07882573]]\n"
     ]
    }
   ],
   "source": [
    "hasil = modell.predict([[30, 2, 10, 50]])\n",
    "print('Hasil prediksi =', hasil)"
   ]
  },
  {
   "cell_type": "code",
   "execution_count": 27,
   "metadata": {},
   "outputs": [
    {
     "name": "stdout",
     "output_type": "stream",
     "text": [
      "[[ 66.96464374]\n",
      " [136.74253048]\n",
      " [152.00577758]\n",
      " [141.37857467]\n",
      " [108.94740324]\n",
      " [249.57879157]\n",
      " [174.35461751]]\n"
     ]
    }
   ],
   "source": [
    "prediksi = modell.predict(X_test)\n",
    "print(prediksi)"
   ]
  },
  {
   "cell_type": "code",
   "execution_count": 28,
   "metadata": {},
   "outputs": [
    {
     "name": "stdout",
     "output_type": "stream",
     "text": [
      "    Kilometer\n",
      "45        102\n",
      "29        167\n",
      "43        177\n",
      "62        142\n",
      "34        144\n",
      "33        278\n",
      "31        211\n"
     ]
    }
   ],
   "source": [
    "print(y_test)"
   ]
  },
  {
   "cell_type": "code",
   "execution_count": 29,
   "metadata": {},
   "outputs": [
    {
     "name": "stdout",
     "output_type": "stream",
     "text": [
      "138.066\n"
     ]
    }
   ],
   "source": [
    "#y = 71.89 + \n",
    "a = 71.892 + (6.540 * 30) + (2.992 * 2) + (2.454 * 10) + (-3.211 * 50)\n",
    "print(a)"
   ]
  },
  {
   "cell_type": "code",
   "execution_count": 30,
   "metadata": {},
   "outputs": [
    {
     "name": "stdout",
     "output_type": "stream",
     "text": [
      "Perbandingan hasil prediksi apakah sama atau mendekati nilai hasil perhitungan linear.\n",
      "\n",
      "Hasil prediksi = [[138.07882573]]\n",
      "Hasil perhitungan linear = 138.066\n"
     ]
    }
   ],
   "source": [
    "print('Perbandingan hasil prediksi apakah sama atau mendekati nilai hasil perhitungan linear.')\n",
    "\n",
    "print()\n",
    "\n",
    "print('Hasil prediksi =', hasil)\n",
    "print('Hasil perhitungan linear =', a)"
   ]
  },
  {
   "cell_type": "code",
   "execution_count": 32,
   "metadata": {},
   "outputs": [
    {
     "name": "stdout",
     "output_type": "stream",
     "text": [
      "Terlihat bahwa hasil perbandingan cukup akurat karena mendekati angka hasil prediksi. Jadi kesimpulannya, jika mobil di isi 30 liter bensin dengan 2 penumpang tanpa bagasi serta kecepatan 50 km/h dengan suhu 10 derajat maka mobil dapat menempuh jarak hingga 138,07 km.\n"
     ]
    }
   ],
   "source": [
    "print('Terlihat bahwa hasil perbandingan cukup akurat karena mendekati angka hasil prediksi. Jadi kesimpulannya, ' + \n",
    "'jika mobil di isi 30 liter bensin dengan 2 penumpang tanpa bagasi serta kecepatan 50 km/h dengan suhu 10 derajat maka ' + \n",
    "'mobil dapat menempuh jarak hingga 138,07 km.')"
   ]
  },
  {
   "cell_type": "code",
   "execution_count": 16,
   "metadata": {},
   "outputs": [
    {
     "name": "stdout",
     "output_type": "stream",
     "text": [
      "Berhasil\n"
     ]
    }
   ],
   "source": [
    "done = 'Berhasil'\n",
    "print(done)"
   ]
  },
  {
   "cell_type": "code",
   "execution_count": 20,
   "metadata": {},
   "outputs": [
    {
     "name": "stdout",
     "output_type": "stream",
     "text": [
      "171.58199999999997\n"
     ]
    }
   ],
   "source": [
    "#y = 71.89 + \n",
    "b = 71.892 + (6.540 * 30) + (2.992 * 5) + (2.454 * 20) + (-3.211 * 50)\n",
    "print(b)"
   ]
  },
  {
   "cell_type": "code",
   "execution_count": 31,
   "metadata": {},
   "outputs": [
    {
     "name": "stdout",
     "output_type": "stream",
     "text": [
      "Perbandingan hasil prediksi apakah sama atau mendekati nilai hasil perhitungan linear.\n",
      "\n",
      "Hasil prediksi = [[171.59736729]]\n",
      "Hasil perhitungan linear = 171.58199999999997\n"
     ]
    }
   ],
   "source": [
    "print('Perbandingan hasil prediksi apakah sama atau mendekati nilai hasil perhitungan linear.')\n",
    "\n",
    "print()\n",
    "\n",
    "print('Hasil prediksi =', hasil2)\n",
    "print('Hasil perhitungan linear =', b)"
   ]
  },
  {
   "cell_type": "code",
   "execution_count": 34,
   "metadata": {},
   "outputs": [
    {
     "name": "stdout",
     "output_type": "stream",
     "text": [
      "Terlihat bahwa hasilnya bisa dibilang tepat dan sangat mendekati hasil prediksi. Jadi jika sebuah mobil di isi bensin sebanyak 30 liter yang membawa 5 orang penumpang tanpa bagasi dengan kecepatan 50 km/h serta suhu 20 derajat maka maobil diperkirakan mampu menempuh jarak hingga 171,59 km.\n"
     ]
    }
   ],
   "source": [
    "print('Terlihat bahwa hasilnya bisa dibilang tepat dan sangat mendekati hasil prediksi. ' +\n",
    "        'Jadi jika sebuah mobil di isi bensin sebanyak 30 liter yang membawa ' +\n",
    "        '5 orang penumpang tanpa bagasi dengan kecepatan 50 km/h serta suhu 20 derajat maka maobil diperkirakan mampu ' +\n",
    "        'menempuh jarak hingga 171,59 km.')"
   ]
  },
  {
   "cell_type": "code",
   "execution_count": 35,
   "metadata": {},
   "outputs": [
    {
     "name": "stdout",
     "output_type": "stream",
     "text": [
      "Berhasil\n"
     ]
    }
   ],
   "source": [
    "done2 = 'Berhasil', print(done)"
   ]
  }
 ],
 "metadata": {
  "interpreter": {
   "hash": "d0b886e5029937803041d884fe1f7de6b10196e8e6aed85da750c938268b6676"
  },
  "kernelspec": {
   "display_name": "Python 3.10.4 ('pythonProject1')",
   "language": "python",
   "name": "python3"
  },
  "language_info": {
   "codemirror_mode": {
    "name": "ipython",
    "version": 3
   },
   "file_extension": ".py",
   "mimetype": "text/x-python",
   "name": "python",
   "nbconvert_exporter": "python",
   "pygments_lexer": "ipython3",
   "version": "3.9.7"
  },
  "orig_nbformat": 4
 },
 "nbformat": 4,
 "nbformat_minor": 2
}
