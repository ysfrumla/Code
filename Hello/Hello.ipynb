{
 "cells": [
  {
   "cell_type": "code",
   "execution_count": 1,
   "metadata": {},
   "outputs": [
    {
     "name": "stdout",
     "output_type": "stream",
     "text": [
      "Masukkan nama Anda:\n",
      "Halo Achel\n"
     ]
    }
   ],
   "source": [
    "while True:\n",
    "    print('Masukkan nama Anda:')\n",
    "    name = input()\n",
    "    if name.isalpha():\n",
    "        print(\"Halo\", name)\n",
    "        break\n",
    "    print('Masukkan nama Anda dengan benar.')"
   ]
  },
  {
   "cell_type": "code",
   "execution_count": 2,
   "metadata": {},
   "outputs": [
    {
     "name": "stdout",
     "output_type": "stream",
     "text": [
      "Halo!\n",
      "Kapan terakhir kali kita bertemu?\n",
      "Kita bertemu hari Jum'at yang lalu.\n"
     ]
    }
   ],
   "source": [
    "print(\"Halo!\\nKapan terakhir kali kita bertemu?\\nKita bertemu hari Jum\\'at yang lalu.\")"
   ]
  }
 ],
 "metadata": {
  "interpreter": {
   "hash": "b7baba20b4f9db4e9d1265c617609b407f4c55b0f887bae201718c805d8818cf"
  },
  "kernelspec": {
   "display_name": "Python 3.9.7 ('base')",
   "language": "python",
   "name": "python3"
  },
  "language_info": {
   "codemirror_mode": {
    "name": "ipython",
    "version": 3
   },
   "file_extension": ".py",
   "mimetype": "text/x-python",
   "name": "python",
   "nbconvert_exporter": "python",
   "pygments_lexer": "ipython3",
   "version": "3.9.7 (default, Sep 16 2021, 16:59:28) [MSC v.1916 64 bit (AMD64)]"
  },
  "orig_nbformat": 4
 },
 "nbformat": 4,
 "nbformat_minor": 2
}
